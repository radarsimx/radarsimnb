{
 "cells": [
  {
   "cell_type": "code",
   "execution_count": 1,
   "metadata": {},
   "outputs": [
    {
     "name": "stdout",
     "output_type": "stream",
     "text": [
      "`RadarSimPy` used in this example is version: 13.0.1\n"
     ]
    }
   ],
   "source": [
    "import radarsimpy\n",
    "\n",
    "print(\"`RadarSimPy` used in this example is version: \" + str(radarsimpy.__version__))"
   ]
  },
  {
   "attachments": {},
   "cell_type": "markdown",
   "metadata": {},
   "source": [
    "# Impact of Vertical Multi-Path with Varying Radar Mounting Heights\n",
    "\n",
    "## Introduction\n",
    "\n",
    "In radar systems, accurate signal reception is crucial for reliable operation, particularly in applications such as automotive safety, aviation, and maritime navigation. One significant factor influencing radar performance is the vertical multi-path effect, where radar signals reflect off surfaces like the ground, causing interference patterns that can distort the received signal. The height at which radar sensors are mounted plays a critical role in determining the extent and nature of this interference. Understanding the impact of varying sensor mounting heights on the vertical multi-path effect is essential for optimizing radar system design and improving signal accuracy. This study explores how different mounting heights influence the multi-path effect, aiming to provide insights for enhancing radar performance across various applications.\n",
    "\n",
    "In this example, we will employ [`RadarSimPy`](https://radarsimx.com/radarsimx/radarsimpy/)'s ray tracing capabilities to demonstrate how vertical multipath effects from the ground can impact the received signal amplitude in an FMCW radar system.\n",
    "\n",
    "## Create Radar Model\n",
    "\n",
    "Firstly, import the required modules from `radarsimpy`. `numpy` will also be needed in this example.\n"
   ]
  },
  {
   "cell_type": "code",
   "execution_count": 2,
   "metadata": {},
   "outputs": [],
   "source": [
    "import numpy as np\n",
    "from radarsimpy import Radar, Transmitter, Receiver"
   ]
  },
  {
   "cell_type": "markdown",
   "metadata": {},
   "source": [
    "### Transmitter\n",
    "\n",
    "Setup the basic transmitter parameters through [Transmitter](https://radarsimx.github.io/radarsimpy/radar.html#radarsimpy-transmitter) module.\n",
    "\n",
    "#### Define a Radar Transmitter\n",
    "\n",
    "As shown in the diagram below, `f` and `t` are used to define the waveform modulation. For a linear frequency-modulated continuous waveform (FMCW), it can be specified as `f = [fstart, fend]` and `t = [tstart, tend]`. If `t` is a single number `t = t0`, which is equivalent to `t = [0, t0]`. The bandwidth of the FMCW is `abs(fstart - fend)`. `prp` is the pulse repetition period, and `prp >= (tend - tstart)`.\n",
    "\n",
    "```\n",
    "|                       prp\n",
    "|                  +-----------+\n",
    "|\n",
    "|            +---f[1]--->  /            /            /\n",
    "|                         /            /            /\n",
    "|                        /            /            /\n",
    "|                       /            /            /\n",
    "|                      /            /            /     ...\n",
    "|                     /            /            /\n",
    "|                    /            /            /\n",
    "|                   /            /            /\n",
    "|      +---f[0]--->/            /            /\n",
    "|\n",
    "|                  +-------+\n",
    "|                 t[0]    t[1]\n",
    "```\n"
   ]
  },
  {
   "cell_type": "code",
   "execution_count": 3,
   "metadata": {},
   "outputs": [],
   "source": [
    "tx_channel = dict(\n",
    "    location=(0, 0, 0),\n",
    ")\n",
    "\n",
    "tx = Transmitter(\n",
    "    f=[76.5e9 - 80e6, 76.5e9 + 80e6],\n",
    "    t=20e-6,\n",
    "    tx_power=15,\n",
    "    prp=100e-6,\n",
    "    pulses=1,\n",
    "    channels=[tx_channel],\n",
    ")"
   ]
  },
  {
   "cell_type": "markdown",
   "metadata": {},
   "source": [
    "### Receiver\n",
    "\n",
    "Setup the receiver parameters through [Receiver](https://radarsimx.github.io/radarsimpy/radar.html#radarsimpy-receiver) module.\n",
    "\n",
    "#### Define a Radar Receiver\n",
    "\n",
    "- `fs` – Sampling rate (sps)\n",
    "- `noise_figure` – Noise figure (dB)\n",
    "- `rf_gain` – Total RF gain (dB)\n",
    "- `load_resistor` – Load resistor to convert power to voltage (Ohm)\n",
    "- `baseband_gain` – Total baseband gain (dB)\n"
   ]
  },
  {
   "cell_type": "code",
   "execution_count": 4,
   "metadata": {},
   "outputs": [],
   "source": [
    "rx_channel = dict(\n",
    "    location=(0, 0, 0),\n",
    ")\n",
    "\n",
    "rx = Receiver(\n",
    "    fs=20e6,\n",
    "    noise_figure=8,\n",
    "    rf_gain=20,\n",
    "    load_resistor=1000,\n",
    "    baseband_gain=80,\n",
    "    channels=[rx_channel],\n",
    ")"
   ]
  },
  {
   "cell_type": "markdown",
   "metadata": {},
   "source": [
    "### Radar System\n",
    "\n",
    "Use the defined transmitter and receiver to create the radar system.\n"
   ]
  },
  {
   "cell_type": "code",
   "execution_count": 5,
   "metadata": {},
   "outputs": [],
   "source": [
    "from radarsimpy.simulator import sim_radar\n",
    "from scipy import signal\n",
    "import radarsimpy.processing as proc\n",
    "import time\n",
    "\n",
    "radar = Radar(\n",
    "    transmitter=tx, receiver=rx, location=(0, 0, 0)\n",
    ")\n",
    "\n",
    "target_1 = {\"model\": \"../models/cr.stl\", \"location\": (300, 0, 0), \"speed\": (-1, 0, 0)}\n",
    "\n",
    "targets = [target_1]\n",
    "\n",
    "data = sim_radar(radar, targets, density=0.5, frame_time=np.arange(0, 290, 1))\n",
    "baseband = data[\"baseband\"]\n",
    "\n",
    "range_window = signal.windows.chebwin(radar.sample_prop[\"samples_per_pulse\"], at=60)\n",
    "range_profile = proc.range_fft(baseband, range_window)\n",
    "\n",
    "amp_single = np.max(20 * np.log10(np.abs(range_profile)), axis=2)"
   ]
  },
  {
   "cell_type": "code",
   "execution_count": 6,
   "metadata": {},
   "outputs": [],
   "source": [
    "mount_height = [0.2, 0.6, 1.0]\n",
    "\n",
    "amp_multi = np.zeros((len(mount_height), 290), dtype=np.float64)\n",
    "\n",
    "for idx, height in enumerate(mount_height):\n",
    "    radar = Radar(\n",
    "        transmitter=tx, receiver=rx, location=(0, 0, height), time=np.arange(0, 290, 1)\n",
    "    )\n",
    "\n",
    "    target_1 = {\n",
    "        \"model\": \"../models/cr.stl\",\n",
    "        \"location\": (300, 0, height),\n",
    "        \"speed\": (-1, 0, 0),\n",
    "        \"rotation\": (0, 0, 0),\n",
    "    }\n",
    "\n",
    "    target_2 = {\n",
    "        \"model\": \"../models/surface_400x400.stl\",\n",
    "        \"location\": (0, 0, 0),\n",
    "        \"speed\": (0, 0, 0),\n",
    "        \"permittivity\": 3.2 + 0.1j,\n",
    "        \"is_ground\": True,\n",
    "    }\n",
    "    targets = [target_1, target_2]\n",
    "\n",
    "    data = sim_radar(radar, targets, density=0.5, frame_time=np.arange(0, 290, 1))\n",
    "    baseband = data[\"baseband\"]\n",
    "\n",
    "    range_window = signal.windows.chebwin(radar.sample_prop[\"samples_per_pulse\"], at=60)\n",
    "    range_profile = proc.range_fft(baseband, range_window)\n",
    "\n",
    "    amp_multi[idx, :] = np.max(20 * np.log10(np.abs(range_profile)), axis=2).flatten()"
   ]
  },
  {
   "cell_type": "markdown",
   "metadata": {},
   "source": [
    "## Results\n",
    "\n",
    "Duo to the multi-path:\n",
    "\n",
    "- Path 1: Tx -> Corner reflecor -> Rx\n",
    "- Path 2: Tx -> Ground -> Corner reflecor -> Ground -> Rx\n",
    "- Path 3: Tx -> Ground -> Corner reflecor -> Rx\n",
    "- Path 4: Tx -> Corner reflecor -> Ground -> Rx\n",
    "\n",
    "A fluctuation can be observed from the received target amplitude versus the target range.\n"
   ]
  },
  {
   "cell_type": "code",
   "execution_count": 7,
   "metadata": {},
   "outputs": [
    {
     "data": {
      "application/vnd.plotly.v1+json": {
       "config": {
        "plotlyServerURL": "https://plot.ly"
       },
       "data": [
        {
         "name": "0.2 m mounting height",
         "type": "scatter",
         "x": {
          "bdata": "LAErASoBKQEoAScBJgElASQBIwEiASEBIAEfAR4BHQEcARsBGgEZARgBFwEWARUBFAETARIBEQEQAQ8BDgENAQwBCwEKAQkBCAEHAQYBBQEEAQMBAgEBAQAB/wD+AP0A/AD7APoA+QD4APcA9gD1APQA8wDyAPEA8ADvAO4A7QDsAOsA6gDpAOgA5wDmAOUA5ADjAOIA4QDgAN8A3gDdANwA2wDaANkA2ADXANYA1QDUANMA0gDRANAAzwDOAM0AzADLAMoAyQDIAMcAxgDFAMQAwwDCAMEAwAC/AL4AvQC8ALsAugC5ALgAtwC2ALUAtACzALIAsQCwAK8ArgCtAKwAqwCqAKkAqACnAKYApQCkAKMAogChAKAAnwCeAJ0AnACbAJoAmQCYAJcAlgCVAJQAkwCSAJEAkACPAI4AjQCMAIsAigCJAIgAhwCGAIUAhACDAIIAgQCAAH8AfgB9AHwAewB6AHkAeAB3AHYAdQB0AHMAcgBxAHAAbwBuAG0AbABrAGoAaQBoAGcAZgBlAGQAYwBiAGEAYABfAF4AXQBcAFsAWgBZAFgAVwBWAFUAVABTAFIAUQBQAE8ATgBNAEwASwBKAEkASABHAEYARQBEAEMAQgBBAEAAPwA+AD0APAA7ADoAOQA4ADcANgA1ADQAMwAyADEAMAAvAC4ALQAsACsAKgApACgAJwAmACUAJAAjACIAIQAgAB8AHgAdABwAGwAaABkAGAAXABYAFQAUABMAEgARABAADwAOAA0ADAALAA==",
          "dtype": "i2"
         },
         "y": {
          "bdata": "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",
          "dtype": "f8"
         }
        },
        {
         "name": "0.6 m mounting height",
         "type": "scatter",
         "x": {
          "bdata": "LAErASoBKQEoAScBJgElASQBIwEiASEBIAEfAR4BHQEcARsBGgEZARgBFwEWARUBFAETARIBEQEQAQ8BDgENAQwBCwEKAQkBCAEHAQYBBQEEAQMBAgEBAQAB/wD+AP0A/AD7APoA+QD4APcA9gD1APQA8wDyAPEA8ADvAO4A7QDsAOsA6gDpAOgA5wDmAOUA5ADjAOIA4QDgAN8A3gDdANwA2wDaANkA2ADXANYA1QDUANMA0gDRANAAzwDOAM0AzADLAMoAyQDIAMcAxgDFAMQAwwDCAMEAwAC/AL4AvQC8ALsAugC5ALgAtwC2ALUAtACzALIAsQCwAK8ArgCtAKwAqwCqAKkAqACnAKYApQCkAKMAogChAKAAnwCeAJ0AnACbAJoAmQCYAJcAlgCVAJQAkwCSAJEAkACPAI4AjQCMAIsAigCJAIgAhwCGAIUAhACDAIIAgQCAAH8AfgB9AHwAewB6AHkAeAB3AHYAdQB0AHMAcgBxAHAAbwBuAG0AbABrAGoAaQBoAGcAZgBlAGQAYwBiAGEAYABfAF4AXQBcAFsAWgBZAFgAVwBWAFUAVABTAFIAUQBQAE8ATgBNAEwASwBKAEkASABHAEYARQBEAEMAQgBBAEAAPwA+AD0APAA7ADoAOQA4ADcANgA1ADQAMwAyADEAMAAvAC4ALQAsACsAKgApACgAJwAmACUAJAAjACIAIQAgAB8AHgAdABwAGwAaABkAGAAXABYAFQAUABMAEgARABAADwAOAA0ADAALAA==",
          "dtype": "i2"
         },
         "y": {
          "bdata": "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",
          "dtype": "f8"
         }
        },
        {
         "name": "1.0 m mounting height",
         "type": "scatter",
         "x": {
          "bdata": "LAErASoBKQEoAScBJgElASQBIwEiASEBIAEfAR4BHQEcARsBGgEZARgBFwEWARUBFAETARIBEQEQAQ8BDgENAQwBCwEKAQkBCAEHAQYBBQEEAQMBAgEBAQAB/wD+AP0A/AD7APoA+QD4APcA9gD1APQA8wDyAPEA8ADvAO4A7QDsAOsA6gDpAOgA5wDmAOUA5ADjAOIA4QDgAN8A3gDdANwA2wDaANkA2ADXANYA1QDUANMA0gDRANAAzwDOAM0AzADLAMoAyQDIAMcAxgDFAMQAwwDCAMEAwAC/AL4AvQC8ALsAugC5ALgAtwC2ALUAtACzALIAsQCwAK8ArgCtAKwAqwCqAKkAqACnAKYApQCkAKMAogChAKAAnwCeAJ0AnACbAJoAmQCYAJcAlgCVAJQAkwCSAJEAkACPAI4AjQCMAIsAigCJAIgAhwCGAIUAhACDAIIAgQCAAH8AfgB9AHwAewB6AHkAeAB3AHYAdQB0AHMAcgBxAHAAbwBuAG0AbABrAGoAaQBoAGcAZgBlAGQAYwBiAGEAYABfAF4AXQBcAFsAWgBZAFgAVwBWAFUAVABTAFIAUQBQAE8ATgBNAEwASwBKAEkASABHAEYARQBEAEMAQgBBAEAAPwA+AD0APAA7ADoAOQA4ADcANgA1ADQAMwAyADEAMAAvAC4ALQAsACsAKgApACgAJwAmACUAJAAjACIAIQAgAB8AHgAdABwAGwAaABkAGAAXABYAFQAUABMAEgARABAADwAOAA0ADAALAA==",
          "dtype": "i2"
         },
         "y": {
          "bdata": "mmAgfbs5JMDoehCv2dkgwOmpsBz5CBnAzOgCF+swFMBwD8mRlhAVwCv32BFtwBDAQOtplomQCMDIqYFfKaUBwNQWEJ/swPm/sGqZW2OSw79wGrKfPLrfPzwTDAEzRu8/PndmxHgaAEBy6lfuRRgEQP7YGDCQjwFAmOM0uBR+BkD+CYoVW1wKQCyeswspEw1AzF2gdDimEECu/6sKUbYTQBaq7ZS5IhVALlGr6Tu7F0ByxuBrrvgYQCKdZFImQBdA1He23QGBGEDeW67RhyEaQEcnXgS1/hpA2peRRDrLG0A42X1Y4mkeQMZyFVl1Rh9AlHVYlHfZH0A/cv/sMPcgQDBOmk1uTSFA+ViRZwBIIEBmeuErJ9EgQFAJvEzhICFArFPag8YcIUCNome9AaQhQCCQvue6eyJAMhvPFIGmIkBsQkxzXFEjQPpEzQBDTyNAIJaHAhYVIkBJZcDl7S0iQNkR6CMydSJAVQRThZV1IkB04Asb63siQPKQxA/REyNAqlVp0rL+IkBhAzCoJcYiQAn5bTffPyNAj9AnQe0TI0AN1J22UYohQKlsjnayhSFAnLCsDV5EIUCgFMLeD60gQLMcwB1dfyBA6Dlicx+7IEDOJO5w1kIgQBr9csK9SyBAhLkcimNpH0BHu/jIYmEbQHfk1cYBFBpAlKHFMv4WGUCSgd8gPF8XQPjV//h2sxVAw8oGjZkeFUCoolUbh+gSQDb+nIQ+QRBA3ppiwhk1DkBSbNT2Y/YHQDqER2rjN/U/xJCSRKme4D/cdZfHp/Xgv6maTXoxRPy/RMyrPdfOCcDnnqWgB2URwHAyHYG6AxrAJlNELm1vIMCyFg8qxl4nwOB2YrYYozHArsalP95vOMBo2LcsBM8uwF0vsBBIuiXATLTxYRhvIMCYv7X7WkAZwJR3emCnmBLAzn+FilIhC8A1FM5dxywCwHgNTcBCGvi/LCa2dmIy7L+4LHcSK5XSv6C/bAE/c8E/EG4vcBst3T/g04pcTCfnPyhmcH4Vlew/qC7Ejg3k7z/G7vXC7FbwP3BCAb5fT+w/qH14FGGo4D/AURx8SRetP8hsPR0MTNq/+PcVuZLd77/wxC6WGJ39v+pXn2W/4QfAi0UKFYl0EcC6Vk+z2xkZwLJ2uDNYKiLAYc75ZStrK8BbeZ6yVbcywAFWPGqZ5TTA6ELSIEuKKMAhwljs6DQewPHWK9ETBBLA+JPrxue8+b9Ajh0hgQayP6izzH+SpP0/7LpgvL5OCkBEHZCqrsEPQPBTHfMhuhFARhGyXT6pFUBBSAFC79kYQBI7OdYZJxtAe7RFrrCfHkAGgyK3QksgQGswEZxI+CBAPi2r2d8pIkCeiG4xGjoiQGxPkADntCFAB+NJTL8pIkDwcHGb3g8iQDzPOJZyBCJAcF/1UzbNIUCw2IsEOggiQOauiQ25bSFAg0Oe5KoUIUD6+F0xP14fQBZJgHzF3xxArL5wDYMOGEC82UXQsOMUQKwppMTVYhBAxIXHHC2ZBUAw0ysEgJjoP4gDCGpeW+2/hKPUClNwEMChrg/T0qEgwBiIzr8DGzLAztFEA90uMMDyxXq7KX4gwFSpLn3/3xHAaFDIazqnAcCQ63KxEezkvyB/agQI0Nc/YKZ86QVc8D/oM9wifjf3P+AEENeG4/I/MNslFaEz5z8AYWFper/Jv4xHOLeqLvq/rb8/AqgeEMBkJQKChSggwGl9N1rcHDHAoJWu4jy1K8Ddyy1Za5wVwECTf8C6HPG/qDspGUBH/T+ofBI8C6UMQGQ/DJ1TFRVApvEh9yehGkBo8ZbjXwseQLKWIn3UKSBA2r2roHU3IkDCyA1Yn2ciQAaJ3ZqLtyJA+GMFYMqbIUAO1zpUfMwgQJACoKuR3RtAGimAYs5VF0BE+BwSGTgQQKglXUeM4/c/1EOvNgEqAMAxXMB/LqYiwGj19slYSzTA2IgyBfG1GMD4Z4rxwl38v2DsToqxE9w/4Adgjrsy9z+YMI6yR8z5P1CFc2Fw2ec/uHOEPq8z9r/oN3OPitAYwNhZAjuvYjrAkj/B/Z56GcCgMeLGhBXSPy74/8hXDBBAzpNRjvduF0CIxZ7eIgMeQBo8jFtbwSBAatO5sIoAIUAq2kivTYkgQDAZnC2yIx5AnJ+n87NmFkDEFXBVHuwBQGA2tum0BhDAqgkd/lE0NsBcL8VMbtgNwACYqMfG9+M/QHuvhIBy/z+wjHwOmuT3P7Bn0oTQI/i/oA86PbxrKMBoZkgsEbwWwNBav3EtqARAQMM9UuRkGUCknSxxxaUeQOgFZGr+zSBAmBT4CFpeHkD4w+UsU78UQMCBGBx3w9K/QG0evQEHN8BQh1BpGor/v5gAjdKvuQFAYI3id/5OAUCw+Q1jZB8EwFS5un/zQivAEPWAV0VZ/z8wb4koh3waQGBblwxr/B9AgGFzZn3+HEAYBirAincEQIyWVcVTHjTAgGak1s941D94OnSW97UJQIDbEKcWfOK/7ja9dHtjJMBAdv1yTgYRQAxUDTrRfR5AsJ/V17q/GEBgbTrBu0cGwHiOPDpz2gHA0JVcEwh5DUBgH9hwERYHwADZL7/hU9k/rPV+AkvfG0A0VqTmlpsVQFoS3N3/azLAqLzir8LEDECgRwMay97nv0BI21W/sfA/TAWSYSmYHECwSkOgSTj4v6B9q9RCRwdAAP21SfCO1D+QNdGgof0HQNh5R7UQAxVAEOe7x802+L8g3/SFwu4AQEDW6Dw5hgtA+JRx7A5tBUA0htnCMeMTQNKYTIDU2S7AUPjyV3QnFUAQKc7XDaMNQMinxp0AxxjAQD2oARk167/A2OvNNdoPQOg33qqPUhVAYPmia2jcFkAIyopGcmUSQMicMVW8zhRAWPU4LXixFEAgu7DDfW0RQHQBWdrOTCDA4FHcSc2U/z8QnRMZAcwNQPA3F6H75gxAcMn7/bDPK8DATsIltK3lvyALBpJ5NvK/1GCl9rInJcAYshMkt14UQFha0ru8ZRTA2CRc5522GcAYd7tpDQsQQNjIkLkhRRfAwDtLKHe1B0B4A4QZ2X8fwNDGNIxbVhBAaAMCffO3IcDwo2k38GQOQA==",
          "dtype": "f8"
         }
        }
       ],
       "layout": {
        "template": {
         "data": {
          "bar": [
           {
            "error_x": {
             "color": "#2a3f5f"
            },
            "error_y": {
             "color": "#2a3f5f"
            },
            "marker": {
             "line": {
              "color": "#E5ECF6",
              "width": 0.5
             },
             "pattern": {
              "fillmode": "overlay",
              "size": 10,
              "solidity": 0.2
             }
            },
            "type": "bar"
           }
          ],
          "barpolar": [
           {
            "marker": {
             "line": {
              "color": "#E5ECF6",
              "width": 0.5
             },
             "pattern": {
              "fillmode": "overlay",
              "size": 10,
              "solidity": 0.2
             }
            },
            "type": "barpolar"
           }
          ],
          "carpet": [
           {
            "aaxis": {
             "endlinecolor": "#2a3f5f",
             "gridcolor": "white",
             "linecolor": "white",
             "minorgridcolor": "white",
             "startlinecolor": "#2a3f5f"
            },
            "baxis": {
             "endlinecolor": "#2a3f5f",
             "gridcolor": "white",
             "linecolor": "white",
             "minorgridcolor": "white",
             "startlinecolor": "#2a3f5f"
            },
            "type": "carpet"
           }
          ],
          "choropleth": [
           {
            "colorbar": {
             "outlinewidth": 0,
             "ticks": ""
            },
            "type": "choropleth"
           }
          ],
          "contour": [
           {
            "colorbar": {
             "outlinewidth": 0,
             "ticks": ""
            },
            "colorscale": [
             [
              0,
              "#0d0887"
             ],
             [
              0.1111111111111111,
              "#46039f"
             ],
             [
              0.2222222222222222,
              "#7201a8"
             ],
             [
              0.3333333333333333,
              "#9c179e"
             ],
             [
              0.4444444444444444,
              "#bd3786"
             ],
             [
              0.5555555555555556,
              "#d8576b"
             ],
             [
              0.6666666666666666,
              "#ed7953"
             ],
             [
              0.7777777777777778,
              "#fb9f3a"
             ],
             [
              0.8888888888888888,
              "#fdca26"
             ],
             [
              1,
              "#f0f921"
             ]
            ],
            "type": "contour"
           }
          ],
          "contourcarpet": [
           {
            "colorbar": {
             "outlinewidth": 0,
             "ticks": ""
            },
            "type": "contourcarpet"
           }
          ],
          "heatmap": [
           {
            "colorbar": {
             "outlinewidth": 0,
             "ticks": ""
            },
            "colorscale": [
             [
              0,
              "#0d0887"
             ],
             [
              0.1111111111111111,
              "#46039f"
             ],
             [
              0.2222222222222222,
              "#7201a8"
             ],
             [
              0.3333333333333333,
              "#9c179e"
             ],
             [
              0.4444444444444444,
              "#bd3786"
             ],
             [
              0.5555555555555556,
              "#d8576b"
             ],
             [
              0.6666666666666666,
              "#ed7953"
             ],
             [
              0.7777777777777778,
              "#fb9f3a"
             ],
             [
              0.8888888888888888,
              "#fdca26"
             ],
             [
              1,
              "#f0f921"
             ]
            ],
            "type": "heatmap"
           }
          ],
          "histogram": [
           {
            "marker": {
             "pattern": {
              "fillmode": "overlay",
              "size": 10,
              "solidity": 0.2
             }
            },
            "type": "histogram"
           }
          ],
          "histogram2d": [
           {
            "colorbar": {
             "outlinewidth": 0,
             "ticks": ""
            },
            "colorscale": [
             [
              0,
              "#0d0887"
             ],
             [
              0.1111111111111111,
              "#46039f"
             ],
             [
              0.2222222222222222,
              "#7201a8"
             ],
             [
              0.3333333333333333,
              "#9c179e"
             ],
             [
              0.4444444444444444,
              "#bd3786"
             ],
             [
              0.5555555555555556,
              "#d8576b"
             ],
             [
              0.6666666666666666,
              "#ed7953"
             ],
             [
              0.7777777777777778,
              "#fb9f3a"
             ],
             [
              0.8888888888888888,
              "#fdca26"
             ],
             [
              1,
              "#f0f921"
             ]
            ],
            "type": "histogram2d"
           }
          ],
          "histogram2dcontour": [
           {
            "colorbar": {
             "outlinewidth": 0,
             "ticks": ""
            },
            "colorscale": [
             [
              0,
              "#0d0887"
             ],
             [
              0.1111111111111111,
              "#46039f"
             ],
             [
              0.2222222222222222,
              "#7201a8"
             ],
             [
              0.3333333333333333,
              "#9c179e"
             ],
             [
              0.4444444444444444,
              "#bd3786"
             ],
             [
              0.5555555555555556,
              "#d8576b"
             ],
             [
              0.6666666666666666,
              "#ed7953"
             ],
             [
              0.7777777777777778,
              "#fb9f3a"
             ],
             [
              0.8888888888888888,
              "#fdca26"
             ],
             [
              1,
              "#f0f921"
             ]
            ],
            "type": "histogram2dcontour"
           }
          ],
          "mesh3d": [
           {
            "colorbar": {
             "outlinewidth": 0,
             "ticks": ""
            },
            "type": "mesh3d"
           }
          ],
          "parcoords": [
           {
            "line": {
             "colorbar": {
              "outlinewidth": 0,
              "ticks": ""
             }
            },
            "type": "parcoords"
           }
          ],
          "pie": [
           {
            "automargin": true,
            "type": "pie"
           }
          ],
          "scatter": [
           {
            "fillpattern": {
             "fillmode": "overlay",
             "size": 10,
             "solidity": 0.2
            },
            "type": "scatter"
           }
          ],
          "scatter3d": [
           {
            "line": {
             "colorbar": {
              "outlinewidth": 0,
              "ticks": ""
             }
            },
            "marker": {
             "colorbar": {
              "outlinewidth": 0,
              "ticks": ""
             }
            },
            "type": "scatter3d"
           }
          ],
          "scattercarpet": [
           {
            "marker": {
             "colorbar": {
              "outlinewidth": 0,
              "ticks": ""
             }
            },
            "type": "scattercarpet"
           }
          ],
          "scattergeo": [
           {
            "marker": {
             "colorbar": {
              "outlinewidth": 0,
              "ticks": ""
             }
            },
            "type": "scattergeo"
           }
          ],
          "scattergl": [
           {
            "marker": {
             "colorbar": {
              "outlinewidth": 0,
              "ticks": ""
             }
            },
            "type": "scattergl"
           }
          ],
          "scattermap": [
           {
            "marker": {
             "colorbar": {
              "outlinewidth": 0,
              "ticks": ""
             }
            },
            "type": "scattermap"
           }
          ],
          "scattermapbox": [
           {
            "marker": {
             "colorbar": {
              "outlinewidth": 0,
              "ticks": ""
             }
            },
            "type": "scattermapbox"
           }
          ],
          "scatterpolar": [
           {
            "marker": {
             "colorbar": {
              "outlinewidth": 0,
              "ticks": ""
             }
            },
            "type": "scatterpolar"
           }
          ],
          "scatterpolargl": [
           {
            "marker": {
             "colorbar": {
              "outlinewidth": 0,
              "ticks": ""
             }
            },
            "type": "scatterpolargl"
           }
          ],
          "scatterternary": [
           {
            "marker": {
             "colorbar": {
              "outlinewidth": 0,
              "ticks": ""
             }
            },
            "type": "scatterternary"
           }
          ],
          "surface": [
           {
            "colorbar": {
             "outlinewidth": 0,
             "ticks": ""
            },
            "colorscale": [
             [
              0,
              "#0d0887"
             ],
             [
              0.1111111111111111,
              "#46039f"
             ],
             [
              0.2222222222222222,
              "#7201a8"
             ],
             [
              0.3333333333333333,
              "#9c179e"
             ],
             [
              0.4444444444444444,
              "#bd3786"
             ],
             [
              0.5555555555555556,
              "#d8576b"
             ],
             [
              0.6666666666666666,
              "#ed7953"
             ],
             [
              0.7777777777777778,
              "#fb9f3a"
             ],
             [
              0.8888888888888888,
              "#fdca26"
             ],
             [
              1,
              "#f0f921"
             ]
            ],
            "type": "surface"
           }
          ],
          "table": [
           {
            "cells": {
             "fill": {
              "color": "#EBF0F8"
             },
             "line": {
              "color": "white"
             }
            },
            "header": {
             "fill": {
              "color": "#C8D4E3"
             },
             "line": {
              "color": "white"
             }
            },
            "type": "table"
           }
          ]
         },
         "layout": {
          "annotationdefaults": {
           "arrowcolor": "#2a3f5f",
           "arrowhead": 0,
           "arrowwidth": 1
          },
          "autotypenumbers": "strict",
          "coloraxis": {
           "colorbar": {
            "outlinewidth": 0,
            "ticks": ""
           }
          },
          "colorscale": {
           "diverging": [
            [
             0,
             "#8e0152"
            ],
            [
             0.1,
             "#c51b7d"
            ],
            [
             0.2,
             "#de77ae"
            ],
            [
             0.3,
             "#f1b6da"
            ],
            [
             0.4,
             "#fde0ef"
            ],
            [
             0.5,
             "#f7f7f7"
            ],
            [
             0.6,
             "#e6f5d0"
            ],
            [
             0.7,
             "#b8e186"
            ],
            [
             0.8,
             "#7fbc41"
            ],
            [
             0.9,
             "#4d9221"
            ],
            [
             1,
             "#276419"
            ]
           ],
           "sequential": [
            [
             0,
             "#0d0887"
            ],
            [
             0.1111111111111111,
             "#46039f"
            ],
            [
             0.2222222222222222,
             "#7201a8"
            ],
            [
             0.3333333333333333,
             "#9c179e"
            ],
            [
             0.4444444444444444,
             "#bd3786"
            ],
            [
             0.5555555555555556,
             "#d8576b"
            ],
            [
             0.6666666666666666,
             "#ed7953"
            ],
            [
             0.7777777777777778,
             "#fb9f3a"
            ],
            [
             0.8888888888888888,
             "#fdca26"
            ],
            [
             1,
             "#f0f921"
            ]
           ],
           "sequentialminus": [
            [
             0,
             "#0d0887"
            ],
            [
             0.1111111111111111,
             "#46039f"
            ],
            [
             0.2222222222222222,
             "#7201a8"
            ],
            [
             0.3333333333333333,
             "#9c179e"
            ],
            [
             0.4444444444444444,
             "#bd3786"
            ],
            [
             0.5555555555555556,
             "#d8576b"
            ],
            [
             0.6666666666666666,
             "#ed7953"
            ],
            [
             0.7777777777777778,
             "#fb9f3a"
            ],
            [
             0.8888888888888888,
             "#fdca26"
            ],
            [
             1,
             "#f0f921"
            ]
           ]
          },
          "colorway": [
           "#636efa",
           "#EF553B",
           "#00cc96",
           "#ab63fa",
           "#FFA15A",
           "#19d3f3",
           "#FF6692",
           "#B6E880",
           "#FF97FF",
           "#FECB52"
          ],
          "font": {
           "color": "#2a3f5f"
          },
          "geo": {
           "bgcolor": "white",
           "lakecolor": "white",
           "landcolor": "#E5ECF6",
           "showlakes": true,
           "showland": true,
           "subunitcolor": "white"
          },
          "hoverlabel": {
           "align": "left"
          },
          "hovermode": "closest",
          "mapbox": {
           "style": "light"
          },
          "paper_bgcolor": "white",
          "plot_bgcolor": "#E5ECF6",
          "polar": {
           "angularaxis": {
            "gridcolor": "white",
            "linecolor": "white",
            "ticks": ""
           },
           "bgcolor": "#E5ECF6",
           "radialaxis": {
            "gridcolor": "white",
            "linecolor": "white",
            "ticks": ""
           }
          },
          "scene": {
           "xaxis": {
            "backgroundcolor": "#E5ECF6",
            "gridcolor": "white",
            "gridwidth": 2,
            "linecolor": "white",
            "showbackground": true,
            "ticks": "",
            "zerolinecolor": "white"
           },
           "yaxis": {
            "backgroundcolor": "#E5ECF6",
            "gridcolor": "white",
            "gridwidth": 2,
            "linecolor": "white",
            "showbackground": true,
            "ticks": "",
            "zerolinecolor": "white"
           },
           "zaxis": {
            "backgroundcolor": "#E5ECF6",
            "gridcolor": "white",
            "gridwidth": 2,
            "linecolor": "white",
            "showbackground": true,
            "ticks": "",
            "zerolinecolor": "white"
           }
          },
          "shapedefaults": {
           "line": {
            "color": "#2a3f5f"
           }
          },
          "ternary": {
           "aaxis": {
            "gridcolor": "white",
            "linecolor": "white",
            "ticks": ""
           },
           "baxis": {
            "gridcolor": "white",
            "linecolor": "white",
            "ticks": ""
           },
           "bgcolor": "#E5ECF6",
           "caxis": {
            "gridcolor": "white",
            "linecolor": "white",
            "ticks": ""
           }
          },
          "title": {
           "x": 0.05
          },
          "xaxis": {
           "automargin": true,
           "gridcolor": "white",
           "linecolor": "white",
           "ticks": "",
           "title": {
            "standoff": 15
           },
           "zerolinecolor": "white",
           "zerolinewidth": 2
          },
          "yaxis": {
           "automargin": true,
           "gridcolor": "white",
           "linecolor": "white",
           "ticks": "",
           "title": {
            "standoff": 15
           },
           "zerolinecolor": "white",
           "zerolinewidth": 2
          }
         }
        },
        "xaxis": {
         "title": {
          "text": "Range (m)"
         }
        },
        "yaxis": {
         "title": {
          "text": "Normalized RCS (dBsm)"
         }
        }
       }
      }
     },
     "metadata": {},
     "output_type": "display_data"
    }
   ],
   "source": [
    "import plotly.graph_objs as go\n",
    "from IPython.display import Image\n",
    "\n",
    "t_range = 10 + np.arange(290, 0, -1) * 1\n",
    "\n",
    "fig = go.Figure()\n",
    "\n",
    "for idx, height in enumerate(mount_height):\n",
    "    fig.add_trace(\n",
    "        go.Scatter(\n",
    "            x=t_range,\n",
    "            y=amp_multi[idx, :] - amp_single.flatten(),\n",
    "            name=str(np.round(height, 1)) + \" m mounting height\",\n",
    "        )\n",
    "    )\n",
    "\n",
    "fig.update_layout(\n",
    "    yaxis=dict(title=\"Normalized RCS (dBsm)\"),\n",
    "    xaxis=dict(title=\"Range (m)\"),\n",
    ")\n",
    "\n",
    "# uncomment this to display interactive plot\n",
    "fig.show()\n",
    "\n",
    "# display static image to reduce size on radarsimx.com\n",
    "# img_bytes = fig.to_image(format=\"jpg\", scale=2)\n",
    "# display(Image(img_bytes))"
   ]
  }
 ],
 "metadata": {
  "kernelspec": {
   "display_name": "dev",
   "language": "python",
   "name": "python3"
  },
  "language_info": {
   "codemirror_mode": {
    "name": "ipython",
    "version": 3
   },
   "file_extension": ".py",
   "mimetype": "text/x-python",
   "name": "python",
   "nbconvert_exporter": "python",
   "pygments_lexer": "ipython3",
   "version": "3.12.9"
  },
  "varInspector": {
   "cols": {
    "lenName": 16,
    "lenType": 16,
    "lenVar": 40
   },
   "kernels_config": {
    "python": {
     "delete_cmd_postfix": "",
     "delete_cmd_prefix": "del ",
     "library": "var_list.py",
     "varRefreshCmd": "print(var_dic_list())"
    },
    "r": {
     "delete_cmd_postfix": ") ",
     "delete_cmd_prefix": "rm(",
     "library": "var_list.r",
     "varRefreshCmd": "cat(var_dic_list()) "
    }
   },
   "types_to_exclude": [
    "module",
    "function",
    "builtin_function_or_method",
    "instance",
    "_Feature"
   ],
   "window_display": false
  },
  "widgets": {
   "application/vnd.jupyter.widget-state+json": {
    "state": {},
    "version_major": 2,
    "version_minor": 0
   }
  }
 },
 "nbformat": 4,
 "nbformat_minor": 4
}
