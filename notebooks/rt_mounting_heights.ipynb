{
 "cells": [
  {
   "cell_type": "code",
   "execution_count": 1,
   "metadata": {},
   "outputs": [
    {
     "name": "stdout",
     "output_type": "stream",
     "text": [
      "`RadarSimPy` used in this example is version: 12.6.1\n"
     ]
    }
   ],
   "source": [
    "import radarsimpy\n",
    "\n",
    "print(\"`RadarSimPy` used in this example is version: \" + str(radarsimpy.__version__))"
   ]
  },
  {
   "attachments": {},
   "cell_type": "markdown",
   "metadata": {},
   "source": [
    "# Impact of Vertical Multi-Path with Varying Radar Mounting Heights\n",
    "\n",
    "## Introduction\n",
    "\n",
    "In radar systems, accurate signal reception is crucial for reliable operation, particularly in applications such as automotive safety, aviation, and maritime navigation. One significant factor influencing radar performance is the vertical multi-path effect, where radar signals reflect off surfaces like the ground, causing interference patterns that can distort the received signal. The height at which radar sensors are mounted plays a critical role in determining the extent and nature of this interference. Understanding the impact of varying sensor mounting heights on the vertical multi-path effect is essential for optimizing radar system design and improving signal accuracy. This study explores how different mounting heights influence the multi-path effect, aiming to provide insights for enhancing radar performance across various applications.\n",
    "\n",
    "In this example, we will employ [`RadarSimPy`](https://radarsimx.com/radarsimx/radarsimpy/)'s ray tracing capabilities to demonstrate how vertical multipath effects from the ground can impact the received signal amplitude in an FMCW radar system.\n",
    "\n",
    "## Create Radar Model\n",
    "\n",
    "Firstly, import the required modules from `radarsimpy`. `numpy` will also be needed in this example.\n"
   ]
  },
  {
   "cell_type": "code",
   "execution_count": 2,
   "metadata": {},
   "outputs": [],
   "source": [
    "import numpy as np\n",
    "from radarsimpy import Radar, Transmitter, Receiver"
   ]
  },
  {
   "cell_type": "markdown",
   "metadata": {},
   "source": [
    "### Transmitter\n",
    "\n",
    "Setup the basic transmitter parameters through [Transmitter](https://radarsimx.github.io/radarsimpy/radar.html#radarsimpy-transmitter) module.\n",
    "\n",
    "#### Define a Radar Transmitter\n",
    "\n",
    "As shown in the diagram below, `f` and `t` are used to define the waveform modulation. For a linear frequency-modulated continuous waveform (FMCW), it can be specified as `f = [fstart, fend]` and `t = [tstart, tend]`. If `t` is a single number `t = t0`, which is equivalent to `t = [0, t0]`. The bandwidth of the FMCW is `abs(fstart - fend)`. `prp` is the pulse repetition period, and `prp >= (tend - tstart)`.\n",
    "\n",
    "```\n",
    "|                       prp\n",
    "|                  +-----------+\n",
    "|\n",
    "|            +---f[1]--->  /            /            /\n",
    "|                         /            /            /\n",
    "|                        /            /            /\n",
    "|                       /            /            /\n",
    "|                      /            /            /     ...\n",
    "|                     /            /            /\n",
    "|                    /            /            /\n",
    "|                   /            /            /\n",
    "|      +---f[0]--->/            /            /\n",
    "|\n",
    "|                  +-------+\n",
    "|                 t[0]    t[1]\n",
    "```\n"
   ]
  },
  {
   "cell_type": "code",
   "execution_count": 3,
   "metadata": {},
   "outputs": [],
   "source": [
    "tx_channel = dict(\n",
    "    location=(0, 0, 0),\n",
    ")\n",
    "\n",
    "tx = Transmitter(\n",
    "    f=[76.5e9 - 80e6, 76.5e9 + 80e6],\n",
    "    t=20e-6,\n",
    "    tx_power=15,\n",
    "    prp=100e-6,\n",
    "    pulses=1,\n",
    "    channels=[tx_channel],\n",
    ")"
   ]
  },
  {
   "cell_type": "markdown",
   "metadata": {},
   "source": [
    "### Receiver\n",
    "\n",
    "Setup the receiver parameters through [Receiver](https://radarsimx.github.io/radarsimpy/radar.html#radarsimpy-receiver) module.\n",
    "\n",
    "#### Define a Radar Receiver\n",
    "\n",
    "- `fs` – Sampling rate (sps)\n",
    "- `noise_figure` – Noise figure (dB)\n",
    "- `rf_gain` – Total RF gain (dB)\n",
    "- `load_resistor` – Load resistor to convert power to voltage (Ohm)\n",
    "- `baseband_gain` – Total baseband gain (dB)\n"
   ]
  },
  {
   "cell_type": "code",
   "execution_count": 4,
   "metadata": {},
   "outputs": [],
   "source": [
    "rx_channel = dict(\n",
    "    location=(0, 0, 0),\n",
    ")\n",
    "\n",
    "rx = Receiver(\n",
    "    fs=20e6,\n",
    "    noise_figure=8,\n",
    "    rf_gain=20,\n",
    "    load_resistor=1000,\n",
    "    baseband_gain=80,\n",
    "    channels=[rx_channel],\n",
    ")"
   ]
  },
  {
   "cell_type": "markdown",
   "metadata": {},
   "source": [
    "### Radar System\n",
    "\n",
    "Use the defined transmitter and receiver to create the radar system.\n"
   ]
  },
  {
   "cell_type": "code",
   "execution_count": 5,
   "metadata": {},
   "outputs": [],
   "source": [
    "from radarsimpy.simulator import sim_radar\n",
    "from scipy import signal\n",
    "import radarsimpy.processing as proc\n",
    "import time\n",
    "\n",
    "radar = Radar(\n",
    "    transmitter=tx, receiver=rx, location=(0, 0, 0)\n",
    ")\n",
    "\n",
    "target_1 = {\"model\": \"../models/cr.stl\", \"location\": (300, 0, 0), \"speed\": (-1, 0, 0)}\n",
    "\n",
    "targets = [target_1]\n",
    "\n",
    "data = sim_radar(radar, targets, density=0.5, frame_time=np.arange(0, 290, 1))\n",
    "baseband = data[\"baseband\"]\n",
    "\n",
    "range_window = signal.windows.chebwin(radar.sample_prop[\"samples_per_pulse\"], at=60)\n",
    "range_profile = proc.range_fft(baseband, range_window)\n",
    "\n",
    "amp_single = np.max(20 * np.log10(np.abs(range_profile)), axis=2)"
   ]
  },
  {
   "cell_type": "code",
   "execution_count": 6,
   "metadata": {},
   "outputs": [],
   "source": [
    "mount_height = [0.2, 0.6, 1.0]\n",
    "\n",
    "amp_multi = np.zeros((len(mount_height), 290), dtype=np.float64)\n",
    "\n",
    "for idx, height in enumerate(mount_height):\n",
    "    radar = Radar(\n",
    "        transmitter=tx, receiver=rx, location=(0, 0, height), time=np.arange(0, 290, 1)\n",
    "    )\n",
    "\n",
    "    target_1 = {\n",
    "        \"model\": \"../models/cr.stl\",\n",
    "        \"location\": (300, 0, height),\n",
    "        \"speed\": (-1, 0, 0),\n",
    "        \"rotation\": (0, 0, 0),\n",
    "    }\n",
    "\n",
    "    target_2 = {\n",
    "        \"model\": \"../models/surface_400x400.stl\",\n",
    "        \"location\": (0, 0, 0),\n",
    "        \"speed\": (0, 0, 0),\n",
    "        \"permittivity\": 3.2 + 0.1j,\n",
    "        \"is_ground\": True,\n",
    "    }\n",
    "    targets = [target_1, target_2]\n",
    "\n",
    "    data = sim_radar(radar, targets, density=0.5, frame_time=np.arange(0, 290, 1))\n",
    "    baseband = data[\"baseband\"]\n",
    "\n",
    "    range_window = signal.windows.chebwin(radar.sample_prop[\"samples_per_pulse\"], at=60)\n",
    "    range_profile = proc.range_fft(baseband, range_window)\n",
    "\n",
    "    amp_multi[idx, :] = np.max(20 * np.log10(np.abs(range_profile)), axis=2).flatten()"
   ]
  },
  {
   "cell_type": "markdown",
   "metadata": {},
   "source": [
    "## Results\n",
    "\n",
    "Duo to the multi-path:\n",
    "\n",
    "- Path 1: Tx -> Corner reflecor -> Rx\n",
    "- Path 2: Tx -> Ground -> Corner reflecor -> Ground -> Rx\n",
    "- Path 3: Tx -> Ground -> Corner reflecor -> Rx\n",
    "- Path 4: Tx -> Corner reflecor -> Ground -> Rx\n",
    "\n",
    "A fluctuation can be observed from the received target amplitude versus the target range.\n"
   ]
  },
  {
   "cell_type": "code",
   "execution_count": 7,
   "metadata": {},
   "outputs": [
    {
     "ename": "ValueError",
     "evalue": "Mime type rendering requires nbformat>=4.2.0 but it is not installed",
     "output_type": "error",
     "traceback": [
      "\u001b[1;31m---------------------------------------------------------------------------\u001b[0m",
      "\u001b[1;31mValueError\u001b[0m                                Traceback (most recent call last)",
      "Cell \u001b[1;32mIn[7], line 23\u001b[0m\n\u001b[0;32m     17\u001b[0m fig\u001b[38;5;241m.\u001b[39mupdate_layout(\n\u001b[0;32m     18\u001b[0m     yaxis\u001b[38;5;241m=\u001b[39m\u001b[38;5;28mdict\u001b[39m(title\u001b[38;5;241m=\u001b[39m\u001b[38;5;124m\"\u001b[39m\u001b[38;5;124mNormalized RCS (dBsm)\u001b[39m\u001b[38;5;124m\"\u001b[39m),\n\u001b[0;32m     19\u001b[0m     xaxis\u001b[38;5;241m=\u001b[39m\u001b[38;5;28mdict\u001b[39m(title\u001b[38;5;241m=\u001b[39m\u001b[38;5;124m\"\u001b[39m\u001b[38;5;124mRange (m)\u001b[39m\u001b[38;5;124m\"\u001b[39m),\n\u001b[0;32m     20\u001b[0m )\n\u001b[0;32m     22\u001b[0m \u001b[38;5;66;03m# uncomment this to display interactive plot\u001b[39;00m\n\u001b[1;32m---> 23\u001b[0m \u001b[43mfig\u001b[49m\u001b[38;5;241;43m.\u001b[39;49m\u001b[43mshow\u001b[49m\u001b[43m(\u001b[49m\u001b[43m)\u001b[49m\n\u001b[0;32m     25\u001b[0m \u001b[38;5;66;03m# display static image to reduce size on radarsimx.com\u001b[39;00m\n\u001b[0;32m     26\u001b[0m \u001b[38;5;66;03m# img_bytes = fig.to_image(format=\"jpg\", scale=2)\u001b[39;00m\n\u001b[0;32m     27\u001b[0m \u001b[38;5;66;03m# display(Image(img_bytes))\u001b[39;00m\n",
      "File \u001b[1;32mc:\\Users\\rooki\\miniforge3\\envs\\py312\\Lib\\site-packages\\plotly\\basedatatypes.py:3410\u001b[0m, in \u001b[0;36mBaseFigure.show\u001b[1;34m(self, *args, **kwargs)\u001b[0m\n\u001b[0;32m   3377\u001b[0m \u001b[38;5;250m\u001b[39m\u001b[38;5;124;03m\"\"\"\u001b[39;00m\n\u001b[0;32m   3378\u001b[0m \u001b[38;5;124;03mShow a figure using either the default renderer(s) or the renderer(s)\u001b[39;00m\n\u001b[0;32m   3379\u001b[0m \u001b[38;5;124;03mspecified by the renderer argument\u001b[39;00m\n\u001b[1;32m   (...)\u001b[0m\n\u001b[0;32m   3406\u001b[0m \u001b[38;5;124;03mNone\u001b[39;00m\n\u001b[0;32m   3407\u001b[0m \u001b[38;5;124;03m\"\"\"\u001b[39;00m\n\u001b[0;32m   3408\u001b[0m \u001b[38;5;28;01mimport\u001b[39;00m\u001b[38;5;250m \u001b[39m\u001b[38;5;21;01mplotly\u001b[39;00m\u001b[38;5;21;01m.\u001b[39;00m\u001b[38;5;21;01mio\u001b[39;00m\u001b[38;5;250m \u001b[39m\u001b[38;5;28;01mas\u001b[39;00m\u001b[38;5;250m \u001b[39m\u001b[38;5;21;01mpio\u001b[39;00m\n\u001b[1;32m-> 3410\u001b[0m \u001b[38;5;28;01mreturn\u001b[39;00m \u001b[43mpio\u001b[49m\u001b[38;5;241;43m.\u001b[39;49m\u001b[43mshow\u001b[49m\u001b[43m(\u001b[49m\u001b[38;5;28;43mself\u001b[39;49m\u001b[43m,\u001b[49m\u001b[43m \u001b[49m\u001b[38;5;241;43m*\u001b[39;49m\u001b[43margs\u001b[49m\u001b[43m,\u001b[49m\u001b[43m \u001b[49m\u001b[38;5;241;43m*\u001b[39;49m\u001b[38;5;241;43m*\u001b[39;49m\u001b[43mkwargs\u001b[49m\u001b[43m)\u001b[49m\n",
      "File \u001b[1;32mc:\\Users\\rooki\\miniforge3\\envs\\py312\\Lib\\site-packages\\plotly\\io\\_renderers.py:394\u001b[0m, in \u001b[0;36mshow\u001b[1;34m(fig, renderer, validate, **kwargs)\u001b[0m\n\u001b[0;32m    389\u001b[0m         \u001b[38;5;28;01mraise\u001b[39;00m \u001b[38;5;167;01mValueError\u001b[39;00m(\n\u001b[0;32m    390\u001b[0m             \u001b[38;5;124m\"\u001b[39m\u001b[38;5;124mMime type rendering requires ipython but it is not installed\u001b[39m\u001b[38;5;124m\"\u001b[39m\n\u001b[0;32m    391\u001b[0m         )\n\u001b[0;32m    393\u001b[0m     \u001b[38;5;28;01mif\u001b[39;00m \u001b[38;5;129;01mnot\u001b[39;00m nbformat \u001b[38;5;129;01mor\u001b[39;00m Version(nbformat\u001b[38;5;241m.\u001b[39m__version__) \u001b[38;5;241m<\u001b[39m Version(\u001b[38;5;124m\"\u001b[39m\u001b[38;5;124m4.2.0\u001b[39m\u001b[38;5;124m\"\u001b[39m):\n\u001b[1;32m--> 394\u001b[0m         \u001b[38;5;28;01mraise\u001b[39;00m \u001b[38;5;167;01mValueError\u001b[39;00m(\n\u001b[0;32m    395\u001b[0m             \u001b[38;5;124m\"\u001b[39m\u001b[38;5;124mMime type rendering requires nbformat>=4.2.0 but it is not installed\u001b[39m\u001b[38;5;124m\"\u001b[39m\n\u001b[0;32m    396\u001b[0m         )\n\u001b[0;32m    398\u001b[0m     ipython_display\u001b[38;5;241m.\u001b[39mdisplay(bundle, raw\u001b[38;5;241m=\u001b[39m\u001b[38;5;28;01mTrue\u001b[39;00m)\n\u001b[0;32m    400\u001b[0m \u001b[38;5;66;03m# external renderers\u001b[39;00m\n",
      "\u001b[1;31mValueError\u001b[0m: Mime type rendering requires nbformat>=4.2.0 but it is not installed"
     ]
    }
   ],
   "source": [
    "import plotly.graph_objs as go\n",
    "from IPython.display import Image\n",
    "\n",
    "t_range = 10 + np.arange(290, 0, -1) * 1\n",
    "\n",
    "fig = go.Figure()\n",
    "\n",
    "for idx, height in enumerate(mount_height):\n",
    "    fig.add_trace(\n",
    "        go.Scatter(\n",
    "            x=t_range,\n",
    "            y=amp_multi[idx, :] - amp_single.flatten(),\n",
    "            name=str(np.round(height, 1)) + \" m mounting height\",\n",
    "        )\n",
    "    )\n",
    "\n",
    "fig.update_layout(\n",
    "    yaxis=dict(title=\"Normalized RCS (dBsm)\"),\n",
    "    xaxis=dict(title=\"Range (m)\"),\n",
    ")\n",
    "\n",
    "# uncomment this to display interactive plot\n",
    "fig.show()\n",
    "\n",
    "# display static image to reduce size on radarsimx.com\n",
    "# img_bytes = fig.to_image(format=\"jpg\", scale=2)\n",
    "# display(Image(img_bytes))"
   ]
  }
 ],
 "metadata": {
  "kernelspec": {
   "display_name": "py312",
   "language": "python",
   "name": "python3"
  },
  "language_info": {
   "codemirror_mode": {
    "name": "ipython",
    "version": 3
   },
   "file_extension": ".py",
   "mimetype": "text/x-python",
   "name": "python",
   "nbconvert_exporter": "python",
   "pygments_lexer": "ipython3",
   "version": "3.12.8"
  },
  "varInspector": {
   "cols": {
    "lenName": 16,
    "lenType": 16,
    "lenVar": 40
   },
   "kernels_config": {
    "python": {
     "delete_cmd_postfix": "",
     "delete_cmd_prefix": "del ",
     "library": "var_list.py",
     "varRefreshCmd": "print(var_dic_list())"
    },
    "r": {
     "delete_cmd_postfix": ") ",
     "delete_cmd_prefix": "rm(",
     "library": "var_list.r",
     "varRefreshCmd": "cat(var_dic_list()) "
    }
   },
   "types_to_exclude": [
    "module",
    "function",
    "builtin_function_or_method",
    "instance",
    "_Feature"
   ],
   "window_display": false
  },
  "widgets": {
   "application/vnd.jupyter.widget-state+json": {
    "state": {},
    "version_major": 2,
    "version_minor": 0
   }
  }
 },
 "nbformat": 4,
 "nbformat_minor": 4
}
